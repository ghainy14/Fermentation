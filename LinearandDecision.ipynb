{
 "cells": [
  {
   "cell_type": "code",
   "execution_count": 1,
   "id": "a5ebda5f",
   "metadata": {},
   "outputs": [],
   "source": [
    "import pandas as pd\n",
    "import numpy as np\n"
   ]
  },
  {
   "cell_type": "code",
   "execution_count": 2,
   "id": "49816fba",
   "metadata": {},
   "outputs": [],
   "source": [
    "import matplotlib as plt\n",
    "import seaborn as sns\n",
    "from sklearn.preprocessing import MinMaxScaler\n",
    "from sklearn.preprocessing import LabelEncoder\n",
    "from sklearn.model_selection import train_test_split\n",
    "from sklearn.tree import DecisionTreeRegressor\n"
   ]
  },
  {
   "cell_type": "code",
   "execution_count": 3,
   "id": "3ff28b45",
   "metadata": {},
   "outputs": [],
   "source": [
    "df= pd.read_csv(\"Fermentation_dataset.csv\")"
   ]
  },
  {
   "cell_type": "code",
   "execution_count": 4,
   "id": "c10e7802",
   "metadata": {},
   "outputs": [
    {
     "data": {
      "text/html": [
       "<div>\n",
       "<style scoped>\n",
       "    .dataframe tbody tr th:only-of-type {\n",
       "        vertical-align: middle;\n",
       "    }\n",
       "\n",
       "    .dataframe tbody tr th {\n",
       "        vertical-align: top;\n",
       "    }\n",
       "\n",
       "    .dataframe thead th {\n",
       "        text-align: right;\n",
       "    }\n",
       "</style>\n",
       "<table border=\"1\" class=\"dataframe\">\n",
       "  <thead>\n",
       "    <tr style=\"text-align: right;\">\n",
       "      <th></th>\n",
       "      <th>DAY</th>\n",
       "      <th>WET BIOMASS(g)</th>\n",
       "      <th>DRY BIOMASS(g)</th>\n",
       "      <th>CARBON SOURCE</th>\n",
       "    </tr>\n",
       "  </thead>\n",
       "  <tbody>\n",
       "    <tr>\n",
       "      <th>0</th>\n",
       "      <td>3</td>\n",
       "      <td>7.70</td>\n",
       "      <td>0.78</td>\n",
       "      <td>Shea butter kernel extract</td>\n",
       "    </tr>\n",
       "    <tr>\n",
       "      <th>1</th>\n",
       "      <td>5</td>\n",
       "      <td>6.68</td>\n",
       "      <td>1.02</td>\n",
       "      <td>Shea butter kernel extract</td>\n",
       "    </tr>\n",
       "    <tr>\n",
       "      <th>2</th>\n",
       "      <td>7</td>\n",
       "      <td>4.82</td>\n",
       "      <td>0.97</td>\n",
       "      <td>Shea butter kernel extract</td>\n",
       "    </tr>\n",
       "    <tr>\n",
       "      <th>3</th>\n",
       "      <td>9</td>\n",
       "      <td>10.69</td>\n",
       "      <td>1.52</td>\n",
       "      <td>Shea butter kernel extract</td>\n",
       "    </tr>\n",
       "    <tr>\n",
       "      <th>4</th>\n",
       "      <td>11</td>\n",
       "      <td>9.00</td>\n",
       "      <td>1.69</td>\n",
       "      <td>Shea butter kernel extract</td>\n",
       "    </tr>\n",
       "    <tr>\n",
       "      <th>5</th>\n",
       "      <td>13</td>\n",
       "      <td>10.64</td>\n",
       "      <td>2.63</td>\n",
       "      <td>Shea butter kernel extract</td>\n",
       "    </tr>\n",
       "    <tr>\n",
       "      <th>6</th>\n",
       "      <td>15</td>\n",
       "      <td>9.49</td>\n",
       "      <td>2.23</td>\n",
       "      <td>Shea butter kernel extract</td>\n",
       "    </tr>\n",
       "    <tr>\n",
       "      <th>7</th>\n",
       "      <td>3</td>\n",
       "      <td>22.83</td>\n",
       "      <td>2.31</td>\n",
       "      <td>Ipomoea Batatas Peel ectract</td>\n",
       "    </tr>\n",
       "    <tr>\n",
       "      <th>8</th>\n",
       "      <td>5</td>\n",
       "      <td>17.13</td>\n",
       "      <td>1.39</td>\n",
       "      <td>Ipomoea Batatas Peel ectract</td>\n",
       "    </tr>\n",
       "    <tr>\n",
       "      <th>9</th>\n",
       "      <td>7</td>\n",
       "      <td>28.87</td>\n",
       "      <td>1.83</td>\n",
       "      <td>Ipomoea Batatas Peel ectract</td>\n",
       "    </tr>\n",
       "    <tr>\n",
       "      <th>10</th>\n",
       "      <td>9</td>\n",
       "      <td>20.17</td>\n",
       "      <td>1.06</td>\n",
       "      <td>Ipomoea Batatas Peel ectract</td>\n",
       "    </tr>\n",
       "    <tr>\n",
       "      <th>11</th>\n",
       "      <td>11</td>\n",
       "      <td>17.83</td>\n",
       "      <td>1.07</td>\n",
       "      <td>Ipomoea Batatas Peel ectract</td>\n",
       "    </tr>\n",
       "    <tr>\n",
       "      <th>12</th>\n",
       "      <td>13</td>\n",
       "      <td>25.62</td>\n",
       "      <td>3.36</td>\n",
       "      <td>Ipomoea Batatas Peel ectract</td>\n",
       "    </tr>\n",
       "    <tr>\n",
       "      <th>13</th>\n",
       "      <td>15</td>\n",
       "      <td>25.68</td>\n",
       "      <td>2.17</td>\n",
       "      <td>Ipomoea Batatas Peel ectract</td>\n",
       "    </tr>\n",
       "    <tr>\n",
       "      <th>14</th>\n",
       "      <td>3</td>\n",
       "      <td>3.23</td>\n",
       "      <td>1.37</td>\n",
       "      <td>Palm Fruit empty fibre</td>\n",
       "    </tr>\n",
       "    <tr>\n",
       "      <th>15</th>\n",
       "      <td>5</td>\n",
       "      <td>5.50</td>\n",
       "      <td>0.51</td>\n",
       "      <td>Palm Fruit empty fibre</td>\n",
       "    </tr>\n",
       "    <tr>\n",
       "      <th>16</th>\n",
       "      <td>7</td>\n",
       "      <td>3.64</td>\n",
       "      <td>0.74</td>\n",
       "      <td>Palm Fruit empty fibre</td>\n",
       "    </tr>\n",
       "    <tr>\n",
       "      <th>17</th>\n",
       "      <td>9</td>\n",
       "      <td>6.47</td>\n",
       "      <td>1.77</td>\n",
       "      <td>Palm Fruit empty fibre</td>\n",
       "    </tr>\n",
       "    <tr>\n",
       "      <th>18</th>\n",
       "      <td>11</td>\n",
       "      <td>8.81</td>\n",
       "      <td>1.32</td>\n",
       "      <td>Palm Fruit empty fibre</td>\n",
       "    </tr>\n",
       "    <tr>\n",
       "      <th>19</th>\n",
       "      <td>13</td>\n",
       "      <td>8.62</td>\n",
       "      <td>1.35</td>\n",
       "      <td>Palm Fruit empty fibre</td>\n",
       "    </tr>\n",
       "  </tbody>\n",
       "</table>\n",
       "</div>"
      ],
      "text/plain": [
       "    DAY  WET BIOMASS(g)  DRY BIOMASS(g)                 CARBON SOURCE\n",
       "0     3            7.70            0.78    Shea butter kernel extract\n",
       "1     5            6.68            1.02    Shea butter kernel extract\n",
       "2     7            4.82            0.97    Shea butter kernel extract\n",
       "3     9           10.69            1.52    Shea butter kernel extract\n",
       "4    11            9.00            1.69    Shea butter kernel extract\n",
       "5    13           10.64            2.63    Shea butter kernel extract\n",
       "6    15            9.49            2.23    Shea butter kernel extract\n",
       "7     3           22.83            2.31  Ipomoea Batatas Peel ectract\n",
       "8     5           17.13            1.39  Ipomoea Batatas Peel ectract\n",
       "9     7           28.87            1.83  Ipomoea Batatas Peel ectract\n",
       "10    9           20.17            1.06  Ipomoea Batatas Peel ectract\n",
       "11   11           17.83            1.07  Ipomoea Batatas Peel ectract\n",
       "12   13           25.62            3.36  Ipomoea Batatas Peel ectract\n",
       "13   15           25.68            2.17  Ipomoea Batatas Peel ectract\n",
       "14    3            3.23            1.37        Palm Fruit empty fibre\n",
       "15    5            5.50            0.51        Palm Fruit empty fibre\n",
       "16    7            3.64            0.74        Palm Fruit empty fibre\n",
       "17    9            6.47            1.77        Palm Fruit empty fibre\n",
       "18   11            8.81            1.32        Palm Fruit empty fibre\n",
       "19   13            8.62            1.35        Palm Fruit empty fibre"
      ]
     },
     "execution_count": 4,
     "metadata": {},
     "output_type": "execute_result"
    }
   ],
   "source": [
    "df.head(20)"
   ]
  },
  {
   "cell_type": "code",
   "execution_count": 5,
   "id": "3237b4de",
   "metadata": {},
   "outputs": [],
   "source": [
    "labelencode=LabelEncoder()\n",
    "df['CARBON SOURCE']=labelencode.fit_transform(df['CARBON SOURCE'])"
   ]
  },
  {
   "cell_type": "code",
   "execution_count": 6,
   "id": "869fd266",
   "metadata": {},
   "outputs": [],
   "source": [
    "df['WET BIOMASS(g)']=labelencode.fit_transform(df['WET BIOMASS(g)'])\n",
    "df['DRY BIOMASS(g)']=labelencode.fit_transform(df['DRY BIOMASS(g)'])"
   ]
  },
  {
   "cell_type": "code",
   "execution_count": 7,
   "id": "8c651e74",
   "metadata": {},
   "outputs": [
    {
     "data": {
      "text/html": [
       "<div>\n",
       "<style scoped>\n",
       "    .dataframe tbody tr th:only-of-type {\n",
       "        vertical-align: middle;\n",
       "    }\n",
       "\n",
       "    .dataframe tbody tr th {\n",
       "        vertical-align: top;\n",
       "    }\n",
       "\n",
       "    .dataframe thead th {\n",
       "        text-align: right;\n",
       "    }\n",
       "</style>\n",
       "<table border=\"1\" class=\"dataframe\">\n",
       "  <thead>\n",
       "    <tr style=\"text-align: right;\">\n",
       "      <th></th>\n",
       "      <th>DAY</th>\n",
       "      <th>WET BIOMASS(g)</th>\n",
       "      <th>DRY BIOMASS(g)</th>\n",
       "      <th>CARBON SOURCE</th>\n",
       "    </tr>\n",
       "  </thead>\n",
       "  <tbody>\n",
       "    <tr>\n",
       "      <th>0</th>\n",
       "      <td>3</td>\n",
       "      <td>6</td>\n",
       "      <td>2</td>\n",
       "      <td>3</td>\n",
       "    </tr>\n",
       "    <tr>\n",
       "      <th>1</th>\n",
       "      <td>5</td>\n",
       "      <td>5</td>\n",
       "      <td>4</td>\n",
       "      <td>3</td>\n",
       "    </tr>\n",
       "    <tr>\n",
       "      <th>2</th>\n",
       "      <td>7</td>\n",
       "      <td>2</td>\n",
       "      <td>3</td>\n",
       "      <td>3</td>\n",
       "    </tr>\n",
       "    <tr>\n",
       "      <th>3</th>\n",
       "      <td>9</td>\n",
       "      <td>16</td>\n",
       "      <td>13</td>\n",
       "      <td>3</td>\n",
       "    </tr>\n",
       "    <tr>\n",
       "      <th>4</th>\n",
       "      <td>11</td>\n",
       "      <td>10</td>\n",
       "      <td>14</td>\n",
       "      <td>3</td>\n",
       "    </tr>\n",
       "    <tr>\n",
       "      <th>5</th>\n",
       "      <td>13</td>\n",
       "      <td>15</td>\n",
       "      <td>25</td>\n",
       "      <td>3</td>\n",
       "    </tr>\n",
       "    <tr>\n",
       "      <th>6</th>\n",
       "      <td>15</td>\n",
       "      <td>13</td>\n",
       "      <td>22</td>\n",
       "      <td>3</td>\n",
       "    </tr>\n",
       "    <tr>\n",
       "      <th>7</th>\n",
       "      <td>3</td>\n",
       "      <td>24</td>\n",
       "      <td>24</td>\n",
       "      <td>0</td>\n",
       "    </tr>\n",
       "    <tr>\n",
       "      <th>8</th>\n",
       "      <td>5</td>\n",
       "      <td>21</td>\n",
       "      <td>11</td>\n",
       "      <td>0</td>\n",
       "    </tr>\n",
       "    <tr>\n",
       "      <th>9</th>\n",
       "      <td>7</td>\n",
       "      <td>27</td>\n",
       "      <td>17</td>\n",
       "      <td>0</td>\n",
       "    </tr>\n",
       "    <tr>\n",
       "      <th>10</th>\n",
       "      <td>9</td>\n",
       "      <td>23</td>\n",
       "      <td>5</td>\n",
       "      <td>0</td>\n",
       "    </tr>\n",
       "    <tr>\n",
       "      <th>11</th>\n",
       "      <td>11</td>\n",
       "      <td>22</td>\n",
       "      <td>6</td>\n",
       "      <td>0</td>\n",
       "    </tr>\n",
       "    <tr>\n",
       "      <th>12</th>\n",
       "      <td>13</td>\n",
       "      <td>25</td>\n",
       "      <td>26</td>\n",
       "      <td>0</td>\n",
       "    </tr>\n",
       "    <tr>\n",
       "      <th>13</th>\n",
       "      <td>15</td>\n",
       "      <td>26</td>\n",
       "      <td>19</td>\n",
       "      <td>0</td>\n",
       "    </tr>\n",
       "    <tr>\n",
       "      <th>14</th>\n",
       "      <td>3</td>\n",
       "      <td>0</td>\n",
       "      <td>10</td>\n",
       "      <td>2</td>\n",
       "    </tr>\n",
       "  </tbody>\n",
       "</table>\n",
       "</div>"
      ],
      "text/plain": [
       "    DAY  WET BIOMASS(g)  DRY BIOMASS(g)  CARBON SOURCE\n",
       "0     3               6               2              3\n",
       "1     5               5               4              3\n",
       "2     7               2               3              3\n",
       "3     9              16              13              3\n",
       "4    11              10              14              3\n",
       "5    13              15              25              3\n",
       "6    15              13              22              3\n",
       "7     3              24              24              0\n",
       "8     5              21              11              0\n",
       "9     7              27              17              0\n",
       "10    9              23               5              0\n",
       "11   11              22               6              0\n",
       "12   13              25              26              0\n",
       "13   15              26              19              0\n",
       "14    3               0              10              2"
      ]
     },
     "execution_count": 7,
     "metadata": {},
     "output_type": "execute_result"
    }
   ],
   "source": [
    "df.head(15)"
   ]
  },
  {
   "cell_type": "code",
   "execution_count": 8,
   "id": "59c85c9f",
   "metadata": {},
   "outputs": [
    {
     "data": {
      "text/plain": [
       "((22, 3), (22,))"
      ]
     },
     "execution_count": 8,
     "metadata": {},
     "output_type": "execute_result"
    }
   ],
   "source": [
    "X=df.drop('DAY',axis=1)\n",
    "y=df['DAY']\n",
    "X_train,X_test,y_train,y_test=train_test_split(X,y, test_size=0.2)\n",
    "X_train.shape,y_train.shape"
   ]
  },
  {
   "cell_type": "code",
   "execution_count": 9,
   "id": "6585c8fc",
   "metadata": {},
   "outputs": [],
   "source": [
    "from sklearn.linear_model import LinearRegression\n",
    "linear=LinearRegression()\n",
    "linear.fit(X_train,y_train)\n",
    "prediction=linear.predict(X_test)"
   ]
  },
  {
   "cell_type": "code",
   "execution_count": 10,
   "id": "bdb3870c",
   "metadata": {},
   "outputs": [],
   "source": [
    "from sklearn.metrics import r2_score,mean_absolute_error,mean_squared_error"
   ]
  },
  {
   "cell_type": "code",
   "execution_count": 13,
   "id": "db4d6ca9",
   "metadata": {},
   "outputs": [
    {
     "name": "stdout",
     "output_type": "stream",
     "text": [
      "Mean Squared error : 12.449934946823083\n",
      "Root Mean Squared Error: 3.52844653449972\n"
     ]
    }
   ],
   "source": [
    "mse = mean_squared_error(y_test, prediction)\n",
    "print (\"Mean Squared error :\",mse)\n",
    "rmse = np.sqrt(mse)\n",
    "print(f\"Root Mean Squared Error: {rmse}\")\n"
   ]
  },
  {
   "cell_type": "code",
   "execution_count": 14,
   "id": "31994722",
   "metadata": {
    "scrolled": true
   },
   "outputs": [
    {
     "name": "stdout",
     "output_type": "stream",
     "text": [
      "R-squared: 0.3040409035937408\n",
      "Cross-validated RMSE: 5.188836380077871\n"
     ]
    }
   ],
   "source": [
    "from sklearn.model_selection import cross_val_score\n",
    "from sklearn.metrics import r2_score\n",
    "\n",
    "# Calculate R-squared\n",
    "r2 = r2_score(y_test, prediction)\n",
    "print(f\"R-squared: {r2}\")\n",
    "\n",
    "# Perform cross-validation\n",
    "cv_scores = cross_val_score(linear, X, y, cv=5, scoring='neg_mean_squared_error')\n",
    "cv_mse = -cv_scores.mean()\n",
    "cv_rmse = np.sqrt(cv_mse)\n",
    "print(f\"Cross-validated RMSE: {cv_rmse}\")\n"
   ]
  },
  {
   "cell_type": "code",
   "execution_count": 15,
   "id": "af5d864f",
   "metadata": {},
   "outputs": [],
   "source": [
    "dt=DecisionTreeRegressor()"
   ]
  },
  {
   "cell_type": "code",
   "execution_count": 16,
   "id": "2202f60f",
   "metadata": {},
   "outputs": [
    {
     "data": {
      "text/plain": [
       "DecisionTreeRegressor()"
      ]
     },
     "execution_count": 16,
     "metadata": {},
     "output_type": "execute_result"
    }
   ],
   "source": [
    "dt.fit(X_train,y_train)"
   ]
  },
  {
   "cell_type": "code",
   "execution_count": 17,
   "id": "094c9d67",
   "metadata": {},
   "outputs": [],
   "source": [
    "dt_pred=dt.predict(X_test)"
   ]
  },
  {
   "cell_type": "code",
   "execution_count": 18,
   "id": "d220f381",
   "metadata": {},
   "outputs": [
    {
     "name": "stdout",
     "output_type": "stream",
     "text": [
      "Decision Tree Root Squared Error: 0.10559006211180133\n",
      "Decision Tree Mean Absolute Error: 3.3333333333333335\n",
      "Decision Tree Mean Squared Error: 16.0\n"
     ]
    }
   ],
   "source": [
    "print('Decision Tree Root Squared Error:',r2_score(y_test,dt_pred))\n",
    "print('Decision Tree Mean Absolute Error:',mean_absolute_error(y_test,dt_pred))\n",
    "print('Decision Tree Mean Squared Error:',mean_squared_error(y_test,dt_pred))"
   ]
  },
  {
   "cell_type": "code",
   "execution_count": 19,
   "id": "1e74faf6",
   "metadata": {},
   "outputs": [
    {
     "name": "stdout",
     "output_type": "stream",
     "text": [
      "R-squared: 0.10559006211180133\n",
      "Cross-validated RMSE: 6.868284599034415\n"
     ]
    }
   ],
   "source": [
    "# Calculate R-squared\n",
    "r2 = r2_score(y_test, dt_pred)\n",
    "print(f\"R-squared: {r2}\")\n",
    "\n",
    "# Perform cross-validation\n",
    "cv_scores = cross_val_score(dt, X, y, cv=5, scoring='neg_mean_squared_error')\n",
    "cv_mse = -cv_scores.mean()\n",
    "cv_rmse = np.sqrt(cv_mse)\n",
    "print(f\"Cross-validated RMSE: {cv_rmse}\")"
   ]
  },
  {
   "cell_type": "code",
   "execution_count": 20,
   "id": "91ee66a6",
   "metadata": {},
   "outputs": [
    {
     "name": "stdout",
     "output_type": "stream",
     "text": [
      "Random Forest Cross-validated RMSE: 4.900407330008394\n",
      "Polynomial Features + Ridge Regression Cross-validated RMSE: 10.460783974551642\n"
     ]
    }
   ],
   "source": [
    "from sklearn.ensemble import RandomForestRegressor\n",
    "from sklearn.model_selection import cross_val_score\n",
    "\n",
    "# Initialize the Random Forest model\n",
    "rf_model = RandomForestRegressor(n_estimators=100, random_state=42)\n",
    "\n",
    "# Perform cross-validation and calculate cross-validated RMSE\n",
    "cv_scores = cross_val_score(rf_model, X, y, cv=5, scoring='neg_mean_squared_error')\n",
    "cv_mse = -cv_scores.mean()\n",
    "cv_rmse = np.sqrt(cv_mse)\n",
    "print(f\"Random Forest Cross-validated RMSE: {cv_rmse}\")\n",
    "from sklearn.preprocessing import PolynomialFeatures\n",
    "from sklearn.linear_model import Ridge\n",
    "from sklearn.pipeline import make_pipeline\n",
    "\n",
    "# Create polynomial features\n",
    "poly = PolynomialFeatures(degree=2)\n",
    "\n",
    "# Create a pipeline with polynomial features and Ridge regression\n",
    "model = make_pipeline(poly, Ridge())\n",
    "\n",
    "# Perform cross-validation and calculate cross-validated RMSE\n",
    "cv_scores = cross_val_score(model, X, y, cv=5, scoring='neg_mean_squared_error')\n",
    "cv_mse = -cv_scores.mean()\n",
    "cv_rmse = np.sqrt(cv_mse)\n",
    "print(f\"Polynomial Features + Ridge Regression Cross-validated RMSE: {cv_rmse}\")\n"
   ]
  },
  {
   "cell_type": "code",
   "execution_count": 21,
   "id": "17addfa5",
   "metadata": {},
   "outputs": [
    {
     "name": "stdout",
     "output_type": "stream",
     "text": [
      "Model saved to Ferment_linear_model.pkl\n"
     ]
    }
   ],
   "source": [
    "import pickle\n",
    "file_path = 'Ferment_linear_model.pkl'\n",
    "with open(file_path, 'wb') as file:\n",
    "    pickle.dump(linear, file)\n",
    "print(f\"Model saved to {file_path}\")"
   ]
  },
  {
   "cell_type": "code",
   "execution_count": 22,
   "id": "d6623f54",
   "metadata": {},
   "outputs": [
    {
     "name": "stdout",
     "output_type": "stream",
     "text": [
      "Model saved to Ferment_DecisionTree_model.pkl\n"
     ]
    }
   ],
   "source": [
    "import pickle\n",
    "file_path = 'Ferment_DecisionTree_model.pkl'\n",
    "with open(file_path, 'wb') as file:\n",
    "    pickle.dump(dt, file)\n",
    "print(f\"Model saved to {file_path}\")"
   ]
  },
  {
   "cell_type": "code",
   "execution_count": null,
   "id": "92d06ae9",
   "metadata": {},
   "outputs": [],
   "source": []
  }
 ],
 "metadata": {
  "kernelspec": {
   "display_name": "Python 3 (ipykernel)",
   "language": "python",
   "name": "python3"
  },
  "language_info": {
   "codemirror_mode": {
    "name": "ipython",
    "version": 3
   },
   "file_extension": ".py",
   "mimetype": "text/x-python",
   "name": "python",
   "nbconvert_exporter": "python",
   "pygments_lexer": "ipython3",
   "version": "3.9.13"
  }
 },
 "nbformat": 4,
 "nbformat_minor": 5
}
